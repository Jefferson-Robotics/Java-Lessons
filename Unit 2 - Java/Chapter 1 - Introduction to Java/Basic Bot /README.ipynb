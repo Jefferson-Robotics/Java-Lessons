{
 "cells": [
  {
   "cell_type": "markdown",
   "metadata": {},
   "source": [
    "# Assignment 1 - Basic Robot\n",
    "You'll be creating a Basic robot to traverse a field to a point. Your program will contain a loop, if statements, and other important concepts to challenge yourself. This is how the general structure of your program will look like.\n",
    "  * Main Robot Loop\n",
    "    * Set coordinates of Robot to the arrayMap\n",
    "    * Ask the user to move\n",
    "      * Accept the following input:\n",
    "        * Up, Down, Left, Right\n",
    "    * If location found, end program.\n",
    "\n",
    "The arrayMap is the map your robot will be navigating:\n",
    "```\n",
    "{ 0, 0, 0, 0, 0},\n",
    "{ 0, 0, 0, 1, 0},\n",
    "{ 0, 0, 0, 0, 0},\n",
    "{ 0, 0, 0, 0, 0},\n",
    "{ 0, 0, 0, 0, 0}\n",
    "```"
   ]
  }
 ],
 "metadata": {
  "language_info": {
   "name": "python"
  }
 },
 "nbformat": 4,
 "nbformat_minor": 2
}
