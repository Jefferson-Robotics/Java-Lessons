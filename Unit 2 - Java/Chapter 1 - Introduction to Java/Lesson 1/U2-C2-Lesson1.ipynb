{
 "cells": [
  {
   "cell_type": "markdown",
   "metadata": {},
   "source": [
    "# Welcome to Review of Java Concepts ✍️\n",
    "### U2 | Chapter 2 - Lesson 1\n",
    "\n",
    "By now you should have already know the core concepts of Java with the previous Chapter. So now let's test our knowledge with some actual Java code.\n",
    "\n",
    "We'll be reviewing over this Lesson:\n",
    "<iframe src=\"https://chargingcourses.com/mod/page/view.php?id=19\" width=\"90%\" height=\"400px\" style=\"border:none;\" title=\"U2 - Chapter 1 Presentation\"></iframe>\n",
    "\n",
    "Let's review some important concepts\n",
    "\n",
    "## Java Code Structure\n",
    " * Methods\n",
    "   * Write Java code here\n",
    "   * Methods are similar to functions\n",
    " * Class\n",
    "   * Contains one or more Methods\n",
    "   * ALL Methods must be in a class\n",
    " * Source File\n",
    "   * Stores one Class.\n",
    "   * A section of your program\n",
    "\n",
    "![Java Code Structure Image](./U2C1-img1.png)\n",
    "\n",
    "Here is an example of a Class and Method.\n",
    "Our class is called the Main, and our method is also called main.\n",
    " * Everything goes in a class inside a source file\n",
    " * Running a program tells the JVM (Java Virtual Machine) on your computer to automatically execute the main() method.\n",
    " * The main() Method is where the program starts\n",
    "   * All programs need a main() to start, no matter the size of the program."
   ]
  },
  {
   "cell_type": "code",
   "execution_count": 1,
   "metadata": {
    "vscode": {
     "languageId": "java"
    }
   },
   "outputs": [],
   "source": [
    "class Main {\n",
    "    public static void main(String[] args) {\n",
    "        System.out.println(\"Hello World\");\n",
    "    }\n",
    "}"
   ]
  },
  {
   "cell_type": "markdown",
   "metadata": {},
   "source": [
    "## Java Variables\n",
    " * Variables are just containers! They hold values\n",
    "   * Declare with a data type: String\n",
    "   * Assign with a name: firstName\n",
    "   * Initialize with a value: “Steve”\n",
    " * Variables are used in various ways\n",
    "   * Calculations, storing information, controlling program flow, and more\n",
    " * They are used in nearly every program to store and manipulate data\n"
   ]
  },
  {
   "cell_type": "code",
   "execution_count": 2,
   "metadata": {
    "vscode": {
     "languageId": "java"
    }
   },
   "outputs": [
    {
     "name": "stdout",
     "output_type": "stream",
     "text": [
      "Steve\n"
     ]
    }
   ],
   "source": [
    "String firstName;\n",
    "firstName = \"Steve\";\n",
    "System.out.println(firstName);"
   ]
  },
  {
   "cell_type": "markdown",
   "metadata": {},
   "source": [
    "### Data Types\n",
    " * Primitive data types are the simplest data types\n",
    "   * int ► Represents whole numbers -/+\n",
    "   * double ► Represents decimal numbers\n",
    "   * char ► Represents a single character\n",
    "   * boolean ► Represents a true or false value\n",
    " * Range & Precision:\n",
    "   * Int can store -2 to +2 billion\n",
    "   * Double can store decimals at high precision\n",
    " * Primitive data types CANNOT be changed after assignment, you need to assign a new value.\n",
    "\n",
    "Try putting different values in these variables below!\n"
   ]
  },
  {
   "cell_type": "code",
   "execution_count": 5,
   "metadata": {
    "vscode": {
     "languageId": "java"
    }
   },
   "outputs": [
    {
     "name": "stdout",
     "output_type": "stream",
     "text": [
      "52\n",
      "2.33\n",
      "d\n",
      "true\n"
     ]
    }
   ],
   "source": [
    "int myNum = 52;\n",
    "double myDouble = 2.33;\n",
    "char myChar = 'd';\n",
    "boolean myBool = true;\n",
    "System.out.println(myNum);\n",
    "System.out.println(myDouble);\n",
    "System.out.println(myChar);\n",
    "System.out.println(myBool);"
   ]
  },
  {
   "cell_type": "markdown",
   "metadata": {},
   "source": [
    "### Data Types\n",
    "Converting a value to another data type: Type Casting\n",
    " * Two types of Type Casting\n",
    "   * Widening\n",
    "      * byte -> short -> char -> int -> long -> float -> double\n",
    "   * Narrowing (reverse)\n",
    "      * double -> float -> long -> int -> char -> short -> byte\n",
    " * When narrow casting, you must do it manually by adding the type you’re converting to in front of the value in ()\n",
    "\n",
    "**Note:** Consider size & memory when choosing data types. Int is more efficient than double due to decimal precision\n"
   ]
  },
  {
   "cell_type": "code",
   "execution_count": 12,
   "metadata": {
    "vscode": {
     "languageId": "java"
    }
   },
   "outputs": [
    {
     "name": "stdout",
     "output_type": "stream",
     "text": [
      "12.0\n",
      "42\n"
     ]
    }
   ],
   "source": [
    "int myNum;\n",
    "myNum = 12;\n",
    "double myNewDouble = myNum;\n",
    "System.out.println(myNewDouble);\n",
    "// Outputs 12.0\n",
    "// This is widening casting\n",
    "\n",
    "double myDouble = 42.5;\n",
    "int myInt = (int) myDouble;\n",
    "System.out.println(myInt);\n",
    "// Outputs 42 (No Rounding)\n",
    "// This is narrowing casting"
   ]
  },
  {
   "cell_type": "markdown",
   "metadata": {},
   "source": [
    "### Declaration & Initialization\n",
    " * Declaration\n",
    "   * Specifies the Data Type and Name\n",
    "   * ```dataType variableName;```\n",
    " * Initialization\n",
    "   * Assign a value to your variable.\n",
    "   * ```variableName = value;```\n",
    "   * ‘=’ assigns the value to your variable.\n",
    " * Use meaningful variable names to improve code readability and avoid errors."
   ]
  },
  {
   "cell_type": "code",
   "execution_count": 13,
   "metadata": {
    "vscode": {
     "languageId": "java"
    }
   },
   "outputs": [],
   "source": [
    "int age;\n",
    "double price = 19.99;\n",
    "char grade = 'A';\n",
    "boolean tsJavaFun = false;"
   ]
  },
  {
   "cell_type": "markdown",
   "metadata": {},
   "source": [
    "### Naming Convention\n",
    " * Use Descriptive Variable Names\n",
    "   * tP -> totalPrice\n",
    " * Follow camelCase\n",
    "   * Capitalize the first letter of every word except the first.\n",
    " * Keep names clear and concise.\n",
    " * Stick to a consistent naming style throughout your code.\n",
    "\n",
    "#### Naming\n",
    " * Class Names\n",
    "   * Use noun/noun phrases\n",
    "   * Camel case, but with capital first letter.\n",
    " * Method Names\n",
    "   * Use verbs/verb phrases.\n",
    " * Follow camel case.\n",
    " * Use comments sparingly\n",
    "   * Write good code that others can understand.\n",
    "   * Use good names so your code is self explanatory.\n"
   ]
  }
 ],
 "metadata": {
  "kernelspec": {
   "display_name": "Java",
   "language": "java",
   "name": "java"
  },
  "language_info": {
   "codemirror_mode": "java",
   "file_extension": ".jshell",
   "mimetype": "text/x-java-source",
   "name": "Java",
   "pygments_lexer": "java",
   "version": "11.0.20.1+1-post-Ubuntu-0ubuntu122.04"
  }
 },
 "nbformat": 4,
 "nbformat_minor": 2
}
