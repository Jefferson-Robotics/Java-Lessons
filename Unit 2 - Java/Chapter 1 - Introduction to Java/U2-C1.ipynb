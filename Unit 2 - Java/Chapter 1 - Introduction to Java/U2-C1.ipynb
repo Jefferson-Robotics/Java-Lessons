{
 "cells": [
  {
   "cell_type": "markdown",
   "metadata": {},
   "source": [
    "# Welcome to the Introduction of Java Concepts ✍️\n",
    "> \n",
    "> Before continuing, please note that we are using Jupyter Notebooks. These are essentially powerful Google Docs with code that can actually be ran. Read the markdown (the paragraphs that are formatted) and when you get to a code section, you can click the play button. If it asks what kernal to use, select `Jupyter Kernal` and then `Java` Kernal or just `Java` kernal if that pops up. You can then edit the code and see how it reacts with different inputs and code. \n",
    "> \n",
    "> Note: that this feature is only available on the browser vscode, trying to run it on desktop vscode will not work.\n",
    "> \n",
    "> Please refer to the README or GitHub for more information.\n",
    "---\n",
    "\n",
    "## U2 | Chapter 1 - Lesson 1\n",
    "\n",
    "By now you should have already know the core concepts of Java with the previous Chapter. So now let's test our knowledge with some actual Java code.\n",
    "\n",
    "We'll be reviewing over this Lesson:\n",
    "<iframe src=\"https://chargingcourses.com/mod/page/view.php?id=19\" width=\"90%\" height=\"400px\" style=\"border:none;\" title=\"U2 - Chapter 1 Presentation\"></iframe>\n",
    "\n",
    "Let's review some important concepts\n",
    "\n",
    "## Java Code Structure\n",
    " * Methods\n",
    "   * Write Java code here\n",
    "   * Methods are similar to functions\n",
    " * Class\n",
    "   * Contains one or more Methods\n",
    "   * ALL Methods must be in a class\n",
    " * Source File\n",
    "   * Stores one Class.\n",
    "   * A section of your program\n",
    "\n",
    "![Java Code Structure Image](assets/U2C1-img1.png)\n",
    "\n",
    "Here is an example of a Class and Method.\n",
    "Our class is called the Main, and our method is also called main.\n",
    " * Everything goes in a class inside a source file\n",
    " * Running a program tells the JVM (Java Virtual Machine) on your computer to automatically execute the main() method.\n",
    " * The main() Method is where the program starts\n",
    "   * All programs need a main() to start, no matter the size of the program."
   ]
  },
  {
   "cell_type": "code",
   "execution_count": null,
   "metadata": {},
   "outputs": [],
   "source": [
    "class Main {\n",
    "    public static void main(String[] args) {\n",
    "        Car myCar = new Car();\n",
    "        System.out.println(myCar.driving);\n",
    "        myCar.drive();\n",
    "        System.out.println(myCar.driving);\n",
    "    }\n",
    "}\n",
    "class Car {\n",
    "    public boolean driving = false;\n",
    "\n",
    "    public Car() {\n",
    "        driving = false;\n",
    "    }\n",
    "\n",
    "    public void drive() {\n",
    "        driving = true;\n",
    "    }\n",
    "}"
   ]
  },
  {
   "cell_type": "markdown",
   "metadata": {},
   "source": [
    "## Java Variables\n",
    " * Variables are just containers! They hold values\n",
    "   * Declare with a data type: String\n",
    "   * Assign with a name: firstName\n",
    "   * Initialize with a value: “Steve”\n",
    " * Variables are used in various ways\n",
    "   * Calculations, storing information, controlling program flow, and more\n",
    " * They are used in nearly every program to store and manipulate data\n"
   ]
  },
  {
   "cell_type": "code",
   "execution_count": 1,
   "metadata": {},
   "outputs": [
    {
     "name": "stdout",
     "output_type": "stream",
     "text": [
      "Steve\n"
     ]
    }
   ],
   "source": [
    "String firstName;\n",
    "firstName = \"Steve\";\n",
    "System.out.println(firstName);"
   ]
  },
  {
   "cell_type": "markdown",
   "metadata": {},
   "source": [
    "### Data Types\n",
    " * Primitive data types are the simplest data types\n",
    "   * int ► Represents whole numbers -/+\n",
    "   * double ► Represents decimal numbers\n",
    "   * char ► Represents a single character\n",
    "   * boolean ► Represents a true or false value\n",
    " * Range & Precision:\n",
    "   * Int can store -2 to +2 billion\n",
    "   * Double can store decimals at high precision\n",
    " * Primitive data types CANNOT be changed after assignment, you need to assign a new value.\n",
    "\n",
    "Try putting different values in these variables below!\n"
   ]
  },
  {
   "cell_type": "code",
   "execution_count": 2,
   "metadata": {},
   "outputs": [
    {
     "name": "stdout",
     "output_type": "stream",
     "text": [
      "52\n",
      "2.33\n",
      "d\n",
      "true\n"
     ]
    }
   ],
   "source": [
    "int myNum = 52;\n",
    "double myDouble = 2.33;\n",
    "char myChar = 'd';\n",
    "boolean myBool = true;\n",
    "System.out.println(myNum);\n",
    "System.out.println(myDouble);\n",
    "System.out.println(myChar);\n",
    "System.out.println(myBool);"
   ]
  },
  {
   "cell_type": "markdown",
   "metadata": {},
   "source": [
    "### Data Types\n",
    "Converting a value to another data type: Type Casting\n",
    " * Two types of Type Casting\n",
    "   * Widening\n",
    "      * byte -> short -> char -> int -> long -> float -> double\n",
    "   * Narrowing (reverse)\n",
    "      * double -> float -> long -> int -> char -> short -> byte\n",
    " * When narrow casting, you must do it manually by adding the type you’re converting to in front of the value in ()\n",
    "\n",
    "**Note:** Consider size & memory when choosing data types. Int is more efficient than double due to decimal precision\n"
   ]
  },
  {
   "cell_type": "code",
   "execution_count": 5,
   "metadata": {},
   "outputs": [
    {
     "name": "stdout",
     "output_type": "stream",
     "text": [
      "12.0\n",
      "42\n"
     ]
    }
   ],
   "source": [
    "int myNum;\n",
    "myNum = 12;\n",
    "double myNewDouble = myNum;\n",
    "System.out.println(myNewDouble);\n",
    "\n",
    "double myDouble = 42.999999999999;\n",
    "int myInt = (int) myDouble;\n",
    "System.out.println(myInt);"
   ]
  },
  {
   "cell_type": "markdown",
   "metadata": {},
   "source": [
    "### Declaration & Initialization\n",
    " * Declaration\n",
    "   * Specifies the Data Type and Name\n",
    "   * ```dataType variableName;```\n",
    " * Initialization\n",
    "   * Assign a value to your variable.\n",
    "   * ```variableName = value;```\n",
    "   * ‘=’ assigns the value to your variable.\n",
    " * Use meaningful variable names to improve code readability and avoid errors."
   ]
  },
  {
   "cell_type": "code",
   "execution_count": 4,
   "metadata": {},
   "outputs": [],
   "source": [
    "int age; //declare\n",
    "String emmettsName; // declare\n",
    "emmettsName = \"Emmett\"; // init\n",
    "double price = 19.99; // declare & init\n",
    "char grade = 'A'; // declare & init\n",
    "boolean tsJavaFun = false; // declare & init"
   ]
  },
  {
   "cell_type": "markdown",
   "metadata": {},
   "source": [
    "### Naming Convention\n",
    " * Use Descriptive Variable Names\n",
    "   * tP -> totalPrice\n",
    " * Follow camelCase\n",
    "   * Capitalize the first letter of every word except the first.\n",
    " * Keep names clear and concise.\n",
    " * Stick to a consistent naming style throughout your code.\n",
    "\n",
    "#### Naming\n",
    " * Class Names\n",
    "   * Use noun/noun phrases\n",
    "   * Camel case, uppercase first letter\n",
    " * Method Names\n",
    "   * Camel case\n",
    "   * Use verbs/verb phrases\n",
    " * Variable Names\n",
    "   * Camel case, lowercase first letter\n",
    " * Constant Variable\n",
    "   * All uppercase letters\n",
    "   * Seperated with `_` if it contains multiple words\n",
    " * Use comments sparingly\n",
    "   * Write good code that others can understand.\n",
    "   * Use good names so your code is self explanatory.\n"
   ]
  },
  {
   "cell_type": "code",
   "execution_count": null,
   "metadata": {},
   "outputs": [],
   "source": [
    "// Using noun / noun phrases for classes\n",
    "class Product {\n",
    "    // Using camelCase for all variables\n",
    "    double totalPrice;\n",
    "    String companyName;\n",
    "    String productName;\n",
    "    int productID;\n",
    "    final String releaseDate;\n",
    "    // Using verbs / verb phrases for methods\n",
    "    public getProductInfo() {\n",
    "        System.out.println(\"Product: \" + productName + \" Company: \" + companyName);\n",
    "        System.out.println(\"Price: \" + productName + \" Product ID: \" + productID);\n",
    "        System.out.println(\"Release date: \" + releaseDate);\n",
    "    }\n",
    "}\n"
   ]
  },
  {
   "cell_type": "markdown",
   "metadata": {},
   "source": [
    "## Basic Operations & Expressions\n",
    "### Operators\n",
    "#### Arithmetic Operators\n",
    " * Used for performing mathematical calculations\n",
    " * Addition, subtraction, multiplication, division, & modulus\n",
    " * Common Arithmetic Operators\n",
    "   * Addition -> `+`\n",
    "   * Subtraction -> `-`\n",
    "   * Multiplication -> `*`\n",
    "   * Division -> `/`\n",
    "   * Modulus -> `%`"
   ]
  },
  {
   "cell_type": "code",
   "execution_count": null,
   "metadata": {},
   "outputs": [],
   "source": [
    "totalProfit = totalRevenue - totalExpense;\n",
    "leftOver = totalCookies & totalCustomers;"
   ]
  },
  {
   "cell_type": "markdown",
   "metadata": {},
   "source": [
    "#### Relational Operators\n",
    "  * Used to compare values, returning a true or false result\n",
    "  * These return booleans\n",
    "  * Common Relational Operators\n",
    "    * Equal -> `==`\n",
    "    * Not Equal -> `!=`\n",
    "    * Greater Than -> `>`\n",
    "    * Less Than -> `<`\n",
    "    * Greater Than or Equal -> `>=`\n",
    "    * Less Than or Equal -> `<=`\n",
    "  * Be cautious\n",
    "    * `=` is used for assigning values\n",
    "    * `==` checks for equality\n"
   ]
  },
  {
   "cell_type": "code",
   "execution_count": null,
   "metadata": {},
   "outputs": [],
   "source": [
    "myNum == 2;\n",
    "i < myString.length();"
   ]
  },
  {
   "cell_type": "markdown",
   "metadata": {},
   "source": [
    "#### Logical Operators\n",
    "  * Used to combine boolean values to make complex decisions\n",
    "  * Takes booleans, outputs a boolean\n",
    "  * Common Logical Operators\n",
    "    * And -> `&&`\n",
    "    * Or -> `||`\n",
    "    * Not -> `!`"
   ]
  },
  {
   "cell_type": "code",
   "execution_count": null,
   "metadata": {},
   "outputs": [],
   "source": [
    "x >= 0 && x < 10\n",
    "x > 0 || x == -2"
   ]
  },
  {
   "cell_type": "markdown",
   "metadata": {},
   "source": [
    "#### Order of Operations\n",
    "  * Similar to PEMDAS/BODMAS, parentheses override default order\n",
    "  * Operators have **precedence**.\n",
    "    * Determines the __order of evaluation__\n",
    "  * Similar to PEMDAS\n",
    "    * Parenthesis -> Exponent -> Multiply -> Divide -> Subtract -> Add\n",
    "  * **Although using this pattern**\n",
    "    * Parenthesis -> Unary `-` -> Multiple/Divide -> Subtract/Add -> Relational `>,<,>=,<=` -> Equality `==, !=` -> Logical `&&, ||, !`"
   ]
  },
  {
   "cell_type": "code",
   "execution_count": null,
   "metadata": {},
   "outputs": [],
   "source": [
    "2 * 3 + 1 /* SAME AS */ (2 * 3) + 1 OR 6 + 1\n",
    "2 * (3 + 1) /* SAME AS */ 2 * 4"
   ]
  },
  {
   "cell_type": "markdown",
   "metadata": {},
   "source": [
    "## Conditionals - If & Loops\n",
    "### Conditionals\n",
    "  * Conditionals are decision points in a program.\n",
    "    * Uses boolean statements\n",
    "    * If the boolean statement in the parentheses is **true**, the code is ran\n",
    "      * Otherwise, the code is **Skipped**\n",
    "    * **Logical operators** can be used to use multiple conditions\n",
    "### While Loops\n",
    "  * Loops run by running a conditional test\n",
    "    * While loops run everything in it's loop block as long as the condition is true\n",
    "  * The loop block is defined by curly brackets `{}`\n",
    "  * A While Loop is good if you don't know how many times it will loop and just want to loop until the condition is false."
   ]
  },
  {
   "cell_type": "code",
   "execution_count": 5,
   "metadata": {},
   "outputs": [
    {
     "name": "stdout",
     "output_type": "stream",
     "text": [
      "Before While Loop\n",
      "Looping: 1\n",
      "Looping: 2\n",
      "Looping: 3\n",
      "Looping: 4\n",
      "Looping: 5\n",
      "Looping: 6\n",
      "Looping: 7\n",
      "Looping: 8\n",
      "Looping: 9\n",
      "Looping: 10\n",
      "Looping: 11\n",
      "Looping: 12\n",
      "Looping: 13\n",
      "Looping: 14\n",
      "Looping: 15\n",
      "Looping: 16\n",
      "Looping: 17\n",
      "Looping: 18\n",
      "Looping: 19\n",
      "After While Loop\n"
     ]
    }
   ],
   "source": [
    "int x = 1;\n",
    "System.out.println(\"Before While Loop\");\n",
    "while (x < 20) {\n",
    "    System.out.println(\"Looping: \" + x);\n",
    "    x = x + 1;\n",
    "}\n",
    "System.out.println(\"After While Loop\");"
   ]
  },
  {
   "cell_type": "markdown",
   "metadata": {},
   "source": [
    "### For Loops\n",
    "  * Loops run by running a conditional test\n",
    "    * For Loops run in a sequence as long as the condition is true\n",
    "      * Initialize - Declare Variable\n",
    "      * Conditional Test - Results a Boolean\n",
    "      * Iteration Expression - Doing in the Loop\n",
    "  * The loop block is defined by curly brackets `{}`\n",
    "  * A For Loop is cleaner if you know how many times it's going to Loop"
   ]
  },
  {
   "cell_type": "code",
   "execution_count": 4,
   "metadata": {},
   "outputs": [
    {
     "name": "stdout",
     "output_type": "stream",
     "text": [
      "Before For Loop\n",
      "Looping: 0\n",
      "Looping: 1\n",
      "Looping: 2\n",
      "Looping: 3\n",
      "Looping: 4\n",
      "Looping: 5\n",
      "Looping: 6\n",
      "Looping: 7\n",
      "Looping: 8\n",
      "Looping: 9\n",
      "Looping: 10\n",
      "Looping: 11\n",
      "Looping: 12\n",
      "Looping: 13\n",
      "Looping: 14\n",
      "Looping: 15\n",
      "Looping: 16\n",
      "Looping: 17\n",
      "Looping: 18\n",
      "Looping: 19\n",
      "After For Loop\n"
     ]
    }
   ],
   "source": [
    "System.out.println(\"Before For Loop\");\n",
    "for (int i = 0; i < 20; i++) {\n",
    "    System.out.println(\"Looping: \" + i);\n",
    "}\n",
    "System.out.println(\"After For Loop\");"
   ]
  },
  {
   "cell_type": "markdown",
   "metadata": {},
   "source": [
    "## Arrays\n",
    "Arrays are just a tray of containers, they allow you to use an index position to get any element in the array.\n",
    "  * Every element in an array is just a variable\n",
    "    * Includes both Primitive and Object Reference variables\n",
    "  * **ARRAYS** are always objects, whether they're declared as a primitive or object referecne array, an array is an object. (You'll find this out later on)"
   ]
  },
  {
   "cell_type": "code",
   "execution_count": 10,
   "metadata": {},
   "outputs": [
    {
     "name": "stdout",
     "output_type": "stream",
     "text": [
      "[36, 0, 0, 0, 0, 73, 0]\n"
     ]
    }
   ],
   "source": [
    "// Declare integer array variable\n",
    "int[] numbers;\n",
    "// Create a new integer array with a length of 7 and assign to previous variable\n",
    "numbers = new int[7];\n",
    "\n",
    "// Remember that array indexs start with 0 as the first place.\n",
    "// E.g. 0, 1, 2, 3, 4, 5, 6\n",
    "// Not 1, 2, 3, 4, 5, 6, 7\n",
    "numbers[0] = 36; // Set the 0 slot to 36 (The first slot)\n",
    "numbers[5] = 73; // Set the 5 slot to 73 (The sixth slot)\n",
    "// Arrays.toString converts the array to a string for a better display.\n",
    "System.out.println(Arrays.toString(numbers));"
   ]
  },
  {
   "cell_type": "markdown",
   "metadata": {},
   "source": [
    "## Conclusion\n",
    "Congrats on completing this Lesson!\n",
    "\n",
    "We've created some projects in this Chapter (look in folders) that you can try out to test your skills. If you have any questions or concerns, email us!"
   ]
  }
 ],
 "metadata": {
  "kernelspec": {
   "display_name": "Java",
   "language": "java",
   "name": "java"
  },
  "language_info": {
   "codemirror_mode": "java",
   "file_extension": ".jshell",
   "mimetype": "text/x-java-source",
   "name": "java",
   "pygments_lexer": "java",
   "version": "11.0.20.1+1-post-Ubuntu-0ubuntu122.04"
  }
 },
 "nbformat": 4,
 "nbformat_minor": 2
}
